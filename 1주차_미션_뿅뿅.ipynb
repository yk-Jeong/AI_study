{
  "nbformat": 4,
  "nbformat_minor": 0,
  "metadata": {
    "colab": {
      "provenance": [],
      "authorship_tag": "ABX9TyMYUzVAMMsDXZUPdOtX7PkM",
      "include_colab_link": true
    },
    "kernelspec": {
      "name": "python3",
      "display_name": "Python 3"
    },
    "language_info": {
      "name": "python"
    }
  },
  "cells": [
    {
      "cell_type": "markdown",
      "metadata": {
        "id": "view-in-github",
        "colab_type": "text"
      },
      "source": [
        "<a href=\"https://colab.research.google.com/github/yk-Jeong/AI_study/blob/main/1%EC%A3%BC%EC%B0%A8_%EB%AF%B8%EC%85%98_%EB%BF%85%EB%BF%85.ipynb\" target=\"_parent\"><img src=\"https://colab.research.google.com/assets/colab-badge.svg\" alt=\"Open In Colab\"/></a>"
      ]
    },
    {
      "cell_type": "markdown",
      "source": [
        "Q1. 파이썬에서는 리스트 형태의 데이터를 자주 사용합니다. 그래서 리스트를 잘 다루는 것이 중요한데, 다음으로 주어진 리스트 데이터를 다뤄봅시다.😎\n",
        "\n",
        "- 다양한 데이터를 수집해서 아래와 같은 num_list를 얻었습니다.\n",
        "- 하지만 우리에게 필요한 데이터는 홀수 데이터입니다.\n",
        "- 그렇다면 num_list 가 홀수인 데이터만 출력하도록 하는 함수를 작성해보세요."
      ],
      "metadata": {
        "id": "hHrZTWzc6Y3l"
      }
    },
    {
      "cell_type": "code",
      "execution_count": null,
      "metadata": {
        "id": "fAdJ9Nfm6W5r"
      },
      "outputs": [],
      "source": [
        "# 주어진 리스트\n",
        "num_list = [1, 5, 7, 15, 16, 22, 28, 29]"
      ]
    },
    {
      "cell_type": "code",
      "source": [
        "def get_odd_num(num_list):\n",
        "  odd_num = [item for item in num_list if (item % 2) != 0]\n",
        "  return odd_num\n",
        "\n",
        "print(get_odd_num(num_list))"
      ],
      "metadata": {
        "colab": {
          "base_uri": "https://localhost:8080/"
        },
        "id": "md1hrPZp4rST",
        "outputId": "cf074c28-c92f-420f-bc14-2e46a318d570"
      },
      "execution_count": null,
      "outputs": [
        {
          "output_type": "stream",
          "name": "stdout",
          "text": [
            "[1, 5, 7, 15, 29]\n"
          ]
        }
      ]
    },
    {
      "cell_type": "markdown",
      "source": [
        "Q2. 데이터 처리를 위해서 문자열을 입력받았습니다. 그런데, 문자열을 받았더니 단어 단위로 거꾸로 입력되었습니다. 이를 다시 원래대로 출력하는 함수를 작성해보세요.😎\n",
        "\n",
        "- string 문장을 받아 단어를 역순으로 출력하는 함수를 작성하세요.\n",
        "- string 연산을 이용해보세요.\n"
      ],
      "metadata": {
        "id": "kvKP7giE6cP9"
      }
    },
    {
      "cell_type": "code",
      "source": [
        "sentence = \"way a is there will a is there where\""
      ],
      "metadata": {
        "id": "G6-KiltP6eiM"
      },
      "execution_count": null,
      "outputs": []
    },
    {
      "cell_type": "code",
      "source": [
        "def reverse_sentence(sentence):\n",
        "  return ' '.join(sentence.split(' ')[::-1])  \n",
        "\n",
        "print(reverse_sentence(sentence))"
      ],
      "metadata": {
        "id": "uFrizBgxXL5U",
        "colab": {
          "base_uri": "https://localhost:8080/"
        },
        "outputId": "c8501f6d-0c57-481e-f454-4c7db5766eac"
      },
      "execution_count": null,
      "outputs": [
        {
          "output_type": "stream",
          "name": "stdout",
          "text": [
            "where there is a will there is a way\n"
          ]
        }
      ]
    },
    {
      "cell_type": "markdown",
      "source": [
        "Q3. 이번 학기의 중간고사, 기말고사 점수가 발표되었습니다. 각 학생들의 점수가 튜플 형태로 저장되어 있고, 이를 포함한 리스트가 있습니다. 이를 이용해 각 학생들의 평균 점수를 출력하는 함수를 제작하세요. 😎\n",
        "\n",
        "- 리스트와 반복문을 사용해 데이터를 불러오세요.\n",
        "- 이를 이용해 각 학생별 평균을 구해보세요"
      ],
      "metadata": {
        "id": "l_sI2hCx6eyU"
      }
    },
    {
      "cell_type": "code",
      "source": [
        "# 주어진 데이터\n",
        "\n",
        "score = [(100, 100), (95, 90), (55, 60), (75, 80), (70, 70)]"
      ],
      "metadata": {
        "id": "Zdeq9tp96iT9"
      },
      "execution_count": null,
      "outputs": []
    },
    {
      "cell_type": "code",
      "source": [
        "def get_avg(score):\n",
        "  for i in range(len(score)):\n",
        "    print(f'{i+1}번, 평균: {sum(score[i])/2}')\n",
        "\n",
        "get_avg(score)"
      ],
      "metadata": {
        "colab": {
          "base_uri": "https://localhost:8080/"
        },
        "id": "1vvD2xl0K5D4",
        "outputId": "de4ffa9a-b713-4ad1-a1fd-1388bc3e41d2"
      },
      "execution_count": null,
      "outputs": [
        {
          "output_type": "stream",
          "name": "stdout",
          "text": [
            "1번, 평균: 100.0\n",
            "2번, 평균: 92.5\n",
            "3번, 평균: 57.5\n",
            "4번, 평균: 77.5\n",
            "5번, 평균: 70.0\n"
          ]
        }
      ]
    },
    {
      "cell_type": "markdown",
      "source": [
        "Q4. 두 개의 납품처에서 각각 과일과 야채들이 납품되었습니다. 이를 각각 물품의 개수를 나타내는 2개의 딕셔너리로 정리했습니다. 물품을 정리하기 위해서 2개의 딕셔너리 객체를 합쳐 출력하는 함수를 제작하세요.😎\n",
        "\n",
        "- 중복되는 물품은 합쳐서 표시하세요.\n",
        "- 각 딕셔너리 데이터의 데이터의 키값을 이용해 중복을 확인해보세요."
      ],
      "metadata": {
        "id": "04-8CaA-6ikc"
      }
    },
    {
      "cell_type": "code",
      "source": [
        "dict_first = {'사과': 30, '배': 15, '감': 10, '포도': 10}\n",
        "dict_second = {'사과': 5, '감': 25, '배': 15, '귤': 25}"
      ],
      "metadata": {
        "id": "2ha-hG3g6nV0"
      },
      "execution_count": null,
      "outputs": []
    },
    {
      "cell_type": "code",
      "source": [
        "def merge_dict(dict_first, dict_second):\n",
        "  from collections import Counter\n",
        "\n",
        "  A = Counter(dict_first)\n",
        "  B = Counter(dict_second)\n",
        "\n",
        "  return print(A + B)\n",
        "\n",
        "merge_dict(dict_first, dict_second)"
      ],
      "metadata": {
        "id": "iQgTZn_ygDmK",
        "colab": {
          "base_uri": "https://localhost:8080/"
        },
        "outputId": "dfc432bd-4263-428c-bca5-3aecd8d32470"
      },
      "execution_count": null,
      "outputs": [
        {
          "output_type": "stream",
          "name": "stdout",
          "text": [
            "Counter({'사과': 35, '감': 35, '배': 30, '귤': 25, '포도': 10})\n"
          ]
        }
      ]
    },
    {
      "cell_type": "markdown",
      "source": [
        "Q5. 단어들을 입력받았는데, 자꾸만 숫자들이 섞여들어가는 문제가 있습니다. 이를 처리하기 위해서 함수에 string을 전달 받은 뒤, string 안에서의 숫자를 제거한 후 string만 남은 리스트를 출력하세요. 😎\n",
        "\n",
        "- string 연산을 이용해서 문자열을 자르는 연산을 사용해보세요."
      ],
      "metadata": {
        "id": "xdvt5y5x6nm0"
      }
    },
    {
      "cell_type": "code",
      "source": [
        "inputs = \"cat32dog16cow5\""
      ],
      "metadata": {
        "id": "HVB1GiAb6plE"
      },
      "execution_count": null,
      "outputs": []
    },
    {
      "cell_type": "code",
      "source": [
        "def find_string(inputs):\n",
        "  answer = []\n",
        "\n",
        "  for string in inputs:\n",
        "    if string.isalpha():\n",
        "      answer.append(string)\n",
        "    elif string.isdigit():\n",
        "      answer.append(',')\n",
        "\n",
        "  answer = ''.join(answer)\n",
        "  answer = list(answer.split(','))\n",
        "\n",
        "  remove = ['']\n",
        "  answer = [i for i in answer if i not in remove]\n",
        "\n",
        "  return answer"
      ],
      "metadata": {
        "id": "Y9StckwwUo9N"
      },
      "execution_count": null,
      "outputs": []
    },
    {
      "cell_type": "code",
      "source": [
        "find_string(inputs)"
      ],
      "metadata": {
        "id": "JbZTH15QUtu9",
        "colab": {
          "base_uri": "https://localhost:8080/"
        },
        "outputId": "5ee42c16-dd4d-460a-9e63-591d7a03ee54"
      },
      "execution_count": null,
      "outputs": [
        {
          "output_type": "execute_result",
          "data": {
            "text/plain": [
              "['cat', 'dog', 'cow']"
            ]
          },
          "metadata": {},
          "execution_count": 75
        }
      ]
    }
  ]
}